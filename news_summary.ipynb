{
  "nbformat": 4,
  "nbformat_minor": 0,
  "metadata": {
    "colab": {
      "name": "news_summary.ipynb",
      "provenance": [],
      "collapsed_sections": [],
      "toc_visible": true,
      "authorship_tag": "ABX9TyMLos17m+roaNKi8NrsxqHW",
      "include_colab_link": true
    },
    "kernelspec": {
      "name": "python3",
      "display_name": "Python 3"
    }
  },
  "cells": [
    {
      "cell_type": "markdown",
      "metadata": {
        "id": "view-in-github",
        "colab_type": "text"
      },
      "source": [
        "<a href=\"https://colab.research.google.com/github/i-gitit/webscrape_python/blob/master/news_summary.ipynb\" target=\"_parent\"><img src=\"https://colab.research.google.com/assets/colab-badge.svg\" alt=\"Open In Colab\"/></a>"
      ]
    },
    {
      "cell_type": "markdown",
      "metadata": {
        "id": "KNhsd3cYemCC",
        "colab_type": "text"
      },
      "source": [
        "libraries to be installed for using this script:\n",
        "\n",
        "\n",
        "*   bs4\n",
        "*   requests\n",
        "*   newspaper3k\n",
        "*   nltk\n",
        "*   time\n",
        "*   pandas\n",
        "\n",
        "\n",
        "\n",
        "\n",
        "\n"
      ]
    },
    {
      "cell_type": "code",
      "metadata": {
        "id": "CKTTNu7P7mqP",
        "colab_type": "code",
        "colab": {}
      },
      "source": [
        "#Installing Library\n",
        "!pip3 install newspaper3k"
      ],
      "execution_count": 0,
      "outputs": []
    },
    {
      "cell_type": "code",
      "metadata": {
        "id": "_0EvyHi4sIor",
        "colab_type": "code",
        "colab": {}
      },
      "source": [
        "#importing Libraries\n",
        "from bs4 import BeautifulSoup\n",
        "import requests\n",
        "from newspaper import Article\n",
        "import nltk\n",
        "import time\n",
        "nltk.download('punkt')\n",
        "import pandas as pd"
      ],
      "execution_count": 0,
      "outputs": []
    },
    {
      "cell_type": "code",
      "metadata": {
        "id": "qSdOrQIJtsF3",
        "colab_type": "code",
        "colab": {}
      },
      "source": [
        "#Search function\n",
        "def search_keywords(article):\n",
        "  article=article.replace('\\n',' ')\n",
        "  for sentence in nltk.tokenize.sent_tokenize(article):\n",
        "    if 'surge' in sentence or  'acquisitions' in sentence or 'IPO' in sentence:\n",
        "      print(\"   >\"+sentence)\n"
      ],
      "execution_count": 0,
      "outputs": []
    },
    {
      "cell_type": "code",
      "metadata": {
        "id": "v6EfIxI8sTLQ",
        "colab_type": "code",
        "colab": {}
      },
      "source": [
        "#fetching html of page \n",
        "webdata=requests.get(\"https://news.google.com/topics/CAAqJggKIiBDQkFTRWdvSUwyMHZNRGx6TVdZU0FtVnVHZ0pKVGlnQVAB?hl=en-IN&gl=IN&ceid=IN%3Aen\")\n",
        "htmldata=webdata.text\n",
        "soup=BeautifulSoup(htmldata,'lxml')"
      ],
      "execution_count": 0,
      "outputs": []
    },
    {
      "cell_type": "code",
      "metadata": {
        "id": "zEOujfdaszL5",
        "colab_type": "code",
        "colab": {}
      },
      "source": [
        "#declaring list variables\n",
        "main_newstitle=[]\n",
        "main_newslink=[]\n",
        "main_newssummary=[]\n",
        "main_newsdate=[]\n",
        "sub_newstitle=[]\n",
        "sub_newslink=[]\n",
        "sub_newssummary=[]\n",
        "sub_newsindex=[]\n",
        "sub_newsdate=[]"
      ],
      "execution_count": 0,
      "outputs": []
    },
    {
      "cell_type": "code",
      "metadata": {
        "id": "ocqNr_j7s5LA",
        "colab_type": "code",
        "colab": {}
      },
      "source": [
        "\n",
        "a = soup.find(\"div\", attrs={'class':'fe4pJf'})\n",
        "list=a.find_all(\"div\", attrs={'class':'NiLAwe'}) #picked news blocks, each contain main news as well as subnews"
      ],
      "execution_count": 0,
      "outputs": []
    },
    {
      "cell_type": "code",
      "metadata": {
        "id": "_df5IECgyHdA",
        "colab_type": "code",
        "colab": {}
      },
      "source": [
        "ln=0 #main news index used for relative indexing in subnews table\n",
        "#for i in list[:15]  Can use indexing for top n blocks of news\n",
        "for i in list:\n",
        "  k=0 #used to identify if it is a main news or subnews\n",
        "  \n",
        "  for j in i.find_all('a',attrs={'class':'DY5T1d'}):\n",
        "    \n",
        "    url=\"https://news.google.com\"+j['href'][1:]\n",
        "    \n",
        "    if(requests.get(url).status_code==200):\n",
        "      \n",
        "      article = Article(\"https://news.google.com\"+j['href'][1:], language=\"en\")\n",
        "      article.download()\n",
        "      article.parse() \n",
        "      article.nlp()\n",
        "\n",
        "      #title=article.title     title using nlp\n",
        "      title=j.text #Use same title as google news \n",
        "      summary=article.summary\n",
        "      date=article.publish_date\n",
        "\n",
        "      print(\"Title: \"+title+\"\\nSearching keywords:\")  #printing lines containing keywords.\n",
        "      search_keywords(article.text)\n",
        "      \n",
        "      print()\n",
        "      if(k==0):   #main news index\n",
        "        main_newstitle.append(title)\n",
        "        main_newssummary.append(summary)\n",
        "        main_newslink.append(url)\n",
        "        main_newsdate.append(date)\n",
        "      else:       #subnews \n",
        "        sub_newstitle.append(title)\n",
        "        sub_newssummary.append(summary)\n",
        "        sub_newslink.append(url)\n",
        "        sub_newsdate.append(date)\n",
        "        sub_newsindex.append(ln)\n",
        "      k+=1    \n",
        "      time.sleep(3)\n",
        "  ln+=1\n",
        "\n",
        "      "
      ],
      "execution_count": 0,
      "outputs": []
    },
    {
      "cell_type": "code",
      "metadata": {
        "id": "WxZfineU8TMv",
        "colab_type": "code",
        "colab": {}
      },
      "source": [
        "#making tables using panda\n",
        "main_news_table=pd.DataFrame({'Main news title':main_newstitle,'Summary':main_newssummary,'URL':main_newslink,'Date and Time':main_newsdate})\n",
        "sub_news_table=pd.DataFrame({'Index relative to main news':sub_newsindex,'Sub news title':sub_newstitle,'Summary':sub_newssummary,'URL':sub_newslink,'Date and Time':sub_newsdate})\n",
        "\n",
        "print(\"Head of News table\")\n",
        "main_news_table.head()\n"
      ],
      "execution_count": 0,
      "outputs": []
    },
    {
      "cell_type": "code",
      "metadata": {
        "id": "Jc7HoN4TNaYi",
        "colab_type": "code",
        "colab": {}
      },
      "source": [
        "print(\"Head of Sub News table\")\n",
        "sub_news_table.head()"
      ],
      "execution_count": 0,
      "outputs": []
    }
  ]
}