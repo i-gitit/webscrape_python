{
  "nbformat": 4,
  "nbformat_minor": 0,
  "metadata": {
    "colab": {
      "name": "stock_change_rate.ipynb",
      "provenance": [],
      "collapsed_sections": [],
      "authorship_tag": "ABX9TyNlMg7PYrio+hspYStwXPJy",
      "include_colab_link": true
    },
    "kernelspec": {
      "name": "python3",
      "display_name": "Python 3"
    }
  },
  "cells": [
    {
      "cell_type": "markdown",
      "metadata": {
        "id": "view-in-github",
        "colab_type": "text"
      },
      "source": [
        "<a href=\"https://colab.research.google.com/github/i-gitit/webscrape_python/blob/master/stock_change_rate.ipynb\" target=\"_parent\"><img src=\"https://colab.research.google.com/assets/colab-badge.svg\" alt=\"Open In Colab\"/></a>"
      ]
    },
    {
      "cell_type": "code",
      "metadata": {
        "id": "uSM3VKD6q_CD",
        "colab_type": "code",
        "colab": {}
      },
      "source": [
        "!pip install stockstats"
      ],
      "execution_count": 0,
      "outputs": []
    },
    {
      "cell_type": "code",
      "metadata": {
        "id": "p0PLFXtwq_95",
        "colab_type": "code",
        "colab": {}
      },
      "source": [
        "#importing libraries\n",
        "from bs4 import BeautifulSoup\n",
        "import requests\n",
        "import pandas as pd\n",
        "import stockstats as ss\n",
        "import time"
      ],
      "execution_count": 0,
      "outputs": []
    },
    {
      "cell_type": "code",
      "metadata": {
        "colab_type": "code",
        "id": "-dy-7ZrLuS-w",
        "colab": {}
      },
      "source": [
        "#Declaring variables\n",
        "company=[]\n",
        "lastprice=[]\n",
        "pcmax=[]  #used two variables to store minimum and max values uf %change so that range of change can be found and compared\n",
        "pcmin=[]\n",
        "maxtime=[]    #used to store times when change was max and min so that rate of change could be stated\n",
        "mintime=[]\n",
        "\n",
        "#alert function\n",
        "def alert(c,i):\n",
        "  if(c):\n",
        "    str=\"the stock price of company {} showed an {} percentage increase in value in last {} seconds\".format(company[i],pcmax[i]-pcmin[i],maxtime[i]-mintime[i])\n",
        "    print(str)\n",
        "    pcmin[i]=pcmax[i]\n",
        "    mintime[i]=maxtime[i]\n",
        "  else:\n",
        "    str=\"the stock price of company {} showed an {} percentage decrease in value in last {} seconds\".format(company[i],pcmax[i]-pcmin[i],mintime[i]-maxtime[i])\n",
        "    print(str)\n",
        "    pcmax[i]=pcmin[i]\n",
        "    maxtime[i]=mintime[i]\n",
        "  "
      ],
      "execution_count": 0,
      "outputs": []
    },
    {
      "cell_type": "code",
      "metadata": {
        "id": "Qy6NvFsmr5WZ",
        "colab_type": "code",
        "colab": {}
      },
      "source": [
        "#fetching html of page \n",
        "webdata=requests.get(\"https://www.moneycontrol.com/stocks/marketstats/indexcomp.php?optex=NSE&opttopic=indexcomp&index=9\")\n",
        "curtime=time.time()\n",
        "htmldata=webdata.text\n",
        "\n",
        "soup=BeautifulSoup(htmldata,'lxml')\n",
        "a = soup.find(\"table\", attrs={'class':'tbldata14 bdrtpg'})\n",
        "\n",
        "#running loop first time to get initial status of stocks\n",
        "for tr in a.find_all('tr')[1:]:\n",
        "    td=tr.find_all('td')\n",
        "    company.append(td[0].find('b').text)\n",
        "    lastprice.append(float(td[2].text.replace(',','')))\n",
        "    pcmin.append(float(td[4].text))\n",
        "    pcmax.append(float(td[4].text))\n",
        "    maxtime.append(curtime)\n",
        "    mintime.append(curtime)\n",
        "\n",
        "time.sleep(30)"
      ],
      "execution_count": 0,
      "outputs": []
    },
    {
      "cell_type": "code",
      "metadata": {
        "id": "2btST61AsU3d",
        "colab_type": "code",
        "colab": {}
      },
      "source": [
        "# run the funtion for specific time period and compare %change \n",
        "t_end = time.time() + 60*10  #converting minutes into seconds \n",
        "while time.time() < t_end:\n",
        "  \n",
        "  curtime=time.time()\n",
        "  i=0 # i is used to index our lists.\n",
        "\n",
        "  webdata=requests.get(\"https://www.moneycontrol.com/stocks/marketstats/indexcomp.php?optex=NSE&opttopic=indexcomp&index=9\")\n",
        "  htmldata=webdata.text\n",
        "  soup=BeautifulSoup(htmldata,'lxml')\n",
        "    \n",
        "  a = soup.find(\"table\", attrs={'class':'tbldata14 bdrtpg'})\n",
        "  \n",
        "  for tr in a.find_all('tr')[1:]:\n",
        "    td=tr.find_all('td')\n",
        "    cur=float(td[4].text) #current value of %change\n",
        "    \n",
        "    if(cur>=pcmax[i]):\n",
        "      maxtime[i]=curtime\n",
        "      pcmax[i]=cur\n",
        "      if(pcmax[i]-pcmin[i]>=2):\n",
        "        alert(1,i)\n",
        "    \n",
        "    else:\n",
        "      if(cur<=pcmax[i]):\n",
        "        mintime[i]=curtime\n",
        "        pcmin[i]=cur\n",
        "        if(pcmax[i]-pcmin[i]>=2):\n",
        "          alert(0,i)\n",
        "    i+=1\n",
        "  \n",
        "  time.sleep(30)\n"
      ],
      "execution_count": 0,
      "outputs": []
    }
  ]
}